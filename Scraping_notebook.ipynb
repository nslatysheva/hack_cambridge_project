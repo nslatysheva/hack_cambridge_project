{
 "cells": [
  {
   "cell_type": "code",
   "execution_count": 1,
   "metadata": {
    "collapsed": true
   },
   "outputs": [],
   "source": [
    "import urllib\n",
    "import BeautifulSoup as bsoup\n",
    "import os\n",
    "import codecs\n",
    "from itertools import chain"
   ]
  },
  {
   "cell_type": "code",
   "execution_count": null,
   "metadata": {
    "collapsed": true
   },
   "outputs": [],
   "source": [
    "#for root, _, files in os.walk('www.americanrhetoric.com/speeches/barackobama'):\n",
    "#for root, _, files in os.walk('www.hitler.org/speeches/'):\n",
    "for root, _, files in os.walk('www.churchill-society-london.org.uk/'):\n",
    "#my_dirs=[]\n",
    "#for root, dirs, files in os.walk('db/'):\n",
    "#    print dirs\n",
    "#    for root, _, files in chain.from_iterable(os.walk('db/'+path) for path in dirs):\n",
    "        for file in files:\n",
    "            print file\n",
    "            url = os.path.join(root, file)\n",
    "            #print url\n",
    "            html = urllib.urlopen(url).read()\n",
    "            #print html\n",
    "            soup = bsoup.BeautifulSoup(html)\n",
    "            #print soup\n",
    "\n",
    "            text = soup.getText()\n",
    "            text = text.encode('utf-8')\n",
    "            #print text\n",
    "            #break\n",
    "\n",
    "            with open('parsed_all.txt','a') as f:\n",
    "                f.write(text)\n",
    "                #try:\n",
    "                #    f.write(text)\n",
    "                #except UnicodeEncodeError:\n",
    "                #    continue"
   ]
  },
  {
   "cell_type": "code",
   "execution_count": null,
   "metadata": {
    "collapsed": true
   },
   "outputs": [],
   "source": [
    "with open('parsed_all_corrected.txt','w') as g:\n",
    "    with open('parsed_all.txt') as f:\n",
    "        for line in f:\n",
    "            if line.startswith('//') or line.startswith('google') or line.startswith('doctype') or line.startswith('DOCTYPE') or line.startswith('   so') or line.startswith('/*') or line.startswith('\\\"http'):\n",
    "                continue\n",
    "            else:\n",
    "                g.write(line)"
   ]
  },
  {
   "cell_type": "code",
   "execution_count": null,
   "metadata": {
    "collapsed": true
   },
   "outputs": [],
   "source": [
    "from urlparse import urljoin\n",
    "from bs4 import BeautifulSoup\n",
    "import requests\n",
    "\n",
    "\n",
    "BASE_URL = \"http://genius.com\"\n",
    "artist_url = \"http://genius.com/artists/Mc-hammer\"\n",
    "\n",
    "response = requests.get(artist_url, headers={'User-Agent': 'Mozilla/5.0 (Macintosh; Intel Mac OS X 10_9_4) AppleWebKit/537.36 (KHTML, like Gecko) Chrome/35.0.1916.153 Safari/537.36'})\n",
    "\n",
    "soup = BeautifulSoup(response.text, \"lxml\")\n",
    "for song_link in soup.select('ul.song_list > li > a'):\n",
    "    link = urljoin(BASE_URL, song_link['href'])\n",
    "    response = requests.get(link)\n",
    "    soup = BeautifulSoup(response.text)\n",
    "    lyrics = soup.find('div', class_='song_body-lyrics').text.strip()\n",
    "    lyrics = lyrics.encode('utf-8')\n",
    "    with open('mchammer_rap_lyrics_short.txt','a') as f:\n",
    "        f.write(lyrics)"
   ]
  }
 ],
 "metadata": {
  "kernelspec": {
   "display_name": "Python 2",
   "language": "python",
   "name": "python2"
  },
  "language_info": {
   "codemirror_mode": {
    "name": "ipython",
    "version": 2
   },
   "file_extension": ".py",
   "mimetype": "text/x-python",
   "name": "python",
   "nbconvert_exporter": "python",
   "pygments_lexer": "ipython2",
   "version": "2.7.11"
  }
 },
 "nbformat": 4,
 "nbformat_minor": 0
}
