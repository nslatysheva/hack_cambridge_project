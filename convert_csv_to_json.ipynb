{
 "cells": [
  {
   "cell_type": "code",
   "execution_count": 13,
   "metadata": {
    "collapsed": false
   },
   "outputs": [
    {
     "name": "stdout",
     "output_type": "stream",
     "text": [
      "JSON parsed!\n",
      "JSON saved!\n"
     ]
    }
   ],
   "source": [
    "import csv  \n",
    "import json  \n",
    "import os\n",
    "\n",
    "os.chdir(\"/Users/natashal/Projects/random_things/hack_cambridge/swift_lyrics/\")\n",
    "\n",
    "# Open the CSV  \n",
    "f = open( './dataset_swift.csv', 'rU' )  \n",
    "# Change each fieldname to the appropriate field name. I know, so difficult.  \n",
    "reader = csv.DictReader(f, fieldnames = (\"lyrics\",\"song\"))  \n",
    "# Parse the CSV into JSON  \n",
    "out = json.dumps( [ row for row in reader ] )  \n",
    "print \"JSON parsed!\"  \n",
    "\n",
    "#Save the JSON  \n",
    "f = open( './test.json', 'w')  \n",
    "f.write(out)  \n",
    "print \"JSON saved!\"  "
   ]
  },
  {
   "cell_type": "code",
   "execution_count": null,
   "metadata": {
    "collapsed": true
   },
   "outputs": [],
   "source": []
  }
 ],
 "metadata": {
  "kernelspec": {
   "display_name": "Python 2",
   "language": "python",
   "name": "python2"
  },
  "language_info": {
   "codemirror_mode": {
    "name": "ipython",
    "version": 2
   },
   "file_extension": ".py",
   "mimetype": "text/x-python",
   "name": "python",
   "nbconvert_exporter": "python",
   "pygments_lexer": "ipython2",
   "version": "2.7.11"
  }
 },
 "nbformat": 4,
 "nbformat_minor": 0
}
