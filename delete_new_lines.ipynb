{
 "cells": [
  {
   "cell_type": "code",
   "execution_count": 44,
   "metadata": {
    "collapsed": false
   },
   "outputs": [
    {
     "name": "stdout",
     "output_type": "stream",
     "text": [
      "bad_blood_new.txt\n",
      "blank_space_new.txt\n",
      "shake_it_off_new.txt\n",
      "swift1_new.txt\n",
      "swift2_new.txt\n",
      "swift3_new.txt\n",
      "swift4_new.txt\n",
      "swift5_new.txt\n",
      "swift6_new.txt\n",
      "swift7_new.txt\n",
      "swift8_new.txt\n"
     ]
    }
   ],
   "source": [
    "import os\n",
    "os.chdir(\"/Users/natashal/Projects/random_things/hack_cambridge/swift_lyrics/\")\n",
    "\n",
    "for i in os.listdir(os.getcwd()):\n",
    "    if i.endswith(\".txt\"):\n",
    "        # open infile, read contents\n",
    "        infile = open(i)\n",
    "        contents = infile.read()\n",
    "        # print contents\n",
    "        infile.close()\n",
    "\n",
    "        # delete new lines, output to new file\n",
    "        new_contents = contents.replace('\\n', ' ')\n",
    "        # print new_contents\n",
    "        outfile_name = (\"%s\" + \"_new.txt\") % (i[:-4])\n",
    "        print outfile_name\n",
    "        outfile = open(outfile_name, 'w')\n",
    "        outfile.write(new_contents)\n",
    "        outfile.close()"
   ]
  },
  {
   "cell_type": "code",
   "execution_count": null,
   "metadata": {
    "collapsed": true
   },
   "outputs": [],
   "source": [
    "for i in os.listdir(os.getcwd()):\n",
    "    if i.endswith(\".asm\") or i.endswith(\".py\"):"
   ]
  },
  {
   "cell_type": "code",
   "execution_count": 23,
   "metadata": {
    "collapsed": false
   },
   "outputs": [
    {
     "data": {
      "text/plain": [
       "'/Users/natashal/Projects/random_things/hack_cambridge'"
      ]
     },
     "execution_count": 23,
     "metadata": {},
     "output_type": "execute_result"
    }
   ],
   "source": []
  },
  {
   "cell_type": "code",
   "execution_count": null,
   "metadata": {
    "collapsed": true
   },
   "outputs": [],
   "source": []
  }
 ],
 "metadata": {
  "kernelspec": {
   "display_name": "Python 2",
   "language": "python",
   "name": "python2"
  },
  "language_info": {
   "codemirror_mode": {
    "name": "ipython",
    "version": 2
   },
   "file_extension": ".py",
   "mimetype": "text/x-python",
   "name": "python",
   "nbconvert_exporter": "python",
   "pygments_lexer": "ipython2",
   "version": "2.7.11"
  }
 },
 "nbformat": 4,
 "nbformat_minor": 0
}
